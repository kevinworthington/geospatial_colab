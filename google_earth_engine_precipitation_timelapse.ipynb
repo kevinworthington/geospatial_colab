{
  "cells": [
    {
      "cell_type": "markdown",
      "metadata": {
        "id": "view-in-github",
        "colab_type": "text"
      },
      "source": [
        "<a href=\"https://colab.research.google.com/github/kevinworthington/geospatial_colab/blob/main/google_earth_engine_precipitation_timelapse.ipynb\" target=\"_parent\"><img src=\"https://colab.research.google.com/assets/colab-badge.svg\" alt=\"Open In Colab\"/></a>"
      ]
    },
    {
      "cell_type": "markdown",
      "metadata": {
        "id": "7SrkgYqbtJQX"
      },
      "source": [
        "Google Earth Engine Precipitation Timelapse animation\n",
        "\n",
        "This notebook demonstrates how to generate the timelapse animation of [IMERG precipitation dataset](https://developers.google.com/earth-engine/datasets/catalog/NASA_GPM_L3_IMERG_V06). In the animation, you can add map elements such as, title of map, north arrow, map scale, colorbar etc."
      ]
    },
    {
      "cell_type": "code",
      "execution_count": null,
      "metadata": {
        "id": "YEMhVK8jtJQZ"
      },
      "outputs": [],
      "source": [
        "# !pip install .\n",
        "# !pip install cartopy scipy"
      ]
    },
    {
      "cell_type": "code",
      "execution_count": null,
      "metadata": {
        "id": "gfIaalF8mDyr"
      },
      "outputs": [],
      "source": [
        "import geemap\n",
        "import ee\n",
        "\n",
        "ee.Authenticate()\n",
        "ee.Initialize(project=\"YOUR-PROJECT-ID\")\n",
        "\n",
        "print(geemap.__version__)"
      ]
    },
    {
      "cell_type": "code",
      "execution_count": null,
      "metadata": {
        "id": "8blkLEBTovtH"
      },
      "outputs": [],
      "source": [
        "m = geemap.Map(center=(0.7893, 113.9213), zoom=5)\n",
        "m"
      ]
    },
    {
      "cell_type": "code",
      "execution_count": null,
      "metadata": {
        "id": "aI8ziFsH1dUO"
      },
      "outputs": [],
      "source": [
        "# Extract the required country boundary, in this case Indonesia\n",
        "countries = ee.FeatureCollection(\"FAO/GAUL/2015/level0\")\n",
        "indonesia = countries.filter(ee.Filter.eq(\"ADM0_NAME\", \"Indonesia\"))\n",
        "indonesia_geom = indonesia.geometry()\n",
        "\n",
        "# Load the IMERG precipitation data for the desired day\n",
        "date = ee.Date(\"2023-07-15\")\n",
        "precipitation_collection = ee.ImageCollection(\"NASA/GPM_L3/IMERG_V06\").filterDate(\n",
        "    date, date.advance(1, \"day\")\n",
        ")\n",
        "\n",
        "\n",
        "# Define a function to mask out precipitation less than 0.5 mm/hr\n",
        "def mask_less_ppt(collection):\n",
        "    masked_collection = collection.map(lambda image: image.updateMask(image.gte(0.5)))\n",
        "    return masked_collection\n",
        "\n",
        "\n",
        "# Mask out precipitation less than 0.5 mm/hr\n",
        "masked_imerg_collection = mask_less_ppt(precipitation_collection)\n",
        "\n",
        "# add indonesia boundary to map\n",
        "style = {\"color\": \"000ffff0\", \"width\": 2, \"lineType\": \"solid\", \"fillColor\": \"00000000\"}\n",
        "m.addLayer(indonesia.style(**style), {}, \"Indonesia_boundary\")\n",
        "\n",
        "\n",
        "# Define visualization parameters\n",
        "palette = [\n",
        "    \"000096\",\n",
        "    \"0064ff\",\n",
        "    \"00b4ff\",\n",
        "    \"33db80\",\n",
        "    \"9beb4a\",\n",
        "    \"ffeb00\",\n",
        "    \"ffb300\",\n",
        "    \"ff6400\",\n",
        "    \"eb1e00\",\n",
        "    \"af0000\",\n",
        "]\n",
        "vis_params = {\n",
        "    \"min\": 0,\n",
        "    \"max\": 50,\n",
        "    \"bands\": \"precipitationCal\",\n",
        "    \"palette\": [\"000096\", \"0064ff\", \"00b4ff\", \"eb1e00\", \"af0000\"],\n",
        "}\n",
        "\n",
        "# # Add the precipitation data to the map\n",
        "# m.addLayer(masked_imerg_collection, vis_params, 'Precipitation (IMERG)')\n",
        "# m"
      ]
    },
    {
      "cell_type": "code",
      "execution_count": null,
      "metadata": {
        "id": "Vg8-r_Fp3r9L"
      },
      "outputs": [],
      "source": [
        "# clip the precipitation data to the Indonesia boundary\n",
        "clipped_imerg_collection = masked_imerg_collection.map(\n",
        "    lambda image: image.clip(indonesia_geom)\n",
        ")\n",
        "\n",
        "# Get the number of images in the clipped collection\n",
        "clipped_imerg_collection.size().getInfo()"
      ]
    },
    {
      "cell_type": "code",
      "execution_count": null,
      "metadata": {
        "id": "9CL8g1DGtJQb"
      },
      "outputs": [],
      "source": [
        "# get bounding box of indonesia\n",
        "indonesia_bbox = indonesia.geometry().bounds()\n",
        "indonesia_bbox"
      ]
    },
    {
      "cell_type": "code",
      "execution_count": null,
      "metadata": {
        "id": "pXPxdzwd2SSi"
      },
      "outputs": [],
      "source": [
        "# Display sample image\n",
        "vis_params = {\n",
        "    \"min\": 0,\n",
        "    \"max\": 50,\n",
        "    \"bands\": \"precipitationCal\",\n",
        "    \"palette\": [\"000096\", \"0064ff\", \"00b4ff\", \"eb1e00\", \"af0000\"],\n",
        "}\n",
        "\n",
        "# Display the first image in the clipped collection\n",
        "image = ee.Image(clipped_imerg_collection.first())\n",
        "m.addLayer(image, vis_params, \"First image\")\n",
        "m"
      ]
    },
    {
      "cell_type": "code",
      "execution_count": null,
      "metadata": {
        "id": "T4Nv-gzQtPPX"
      },
      "outputs": [],
      "source": [
        "import matplotlib.pyplot as plt\n",
        "import cartopy.crs as ccrs\n",
        "import json\n",
        "\n",
        "# import the cartoee functionality from geemap\n",
        "from geemap import cartoee\n",
        "\n",
        "# set the width and height of the map\n",
        "w = 25\n",
        "h = 10\n",
        "\n",
        "# set the center of the map\n",
        "lon = 118\n",
        "lat = -3\n",
        "\n",
        "# set the region of interest\n",
        "region = [lon + w, lat - h, lon - w, lat + h]\n",
        "\n",
        "\n",
        "# use cartoee to get a map\n",
        "ax = cartoee.get_map(image, region=region, vis_params=vis_params)\n",
        "\n",
        "# add the Indonesia boundary to the map\n",
        "outline_style = {\"color\": \"FF0000\", \"width\": 2, \"fillColor\": \"00000000\"}\n",
        "cartoee.add_layer(\n",
        "    ax, indonesia.style(**outline_style), region=region, crs=ccrs.PlateCarree()\n",
        ")\n",
        "\n",
        "# add gridlines to the map at a specified interval\n",
        "cartoee.add_gridlines(ax, interval=[5, 5], linestyle=\":\")\n",
        "\n",
        "# add a colorbar to the map (right side)\n",
        "cb = cartoee.add_colorbar(\n",
        "    ax, vis_params, loc=\"right\", label=\"Rainfall (mm)\", orientation=\"vertical\"\n",
        ")\n",
        "\n",
        "# add north arrow\n",
        "north_arrow_dict = {\n",
        "    \"text\": \"N\",\n",
        "    \"xy\": (0.1, 0.21),\n",
        "    \"arrow_length\": 0.10,\n",
        "    \"text_color\": \"black\",\n",
        "    \"arrow_color\": \"white\",\n",
        "    \"fontsize\": 10,\n",
        "    \"width\": 5,\n",
        "    \"headwidth\": 10,\n",
        "    \"ha\": \"center\",\n",
        "    \"va\": \"center\",\n",
        "}\n",
        "cartoee.add_north_arrow(ax, **north_arrow_dict)\n",
        "\n",
        "# add scale bar\n",
        "scale_bar_dict = {\n",
        "    \"length\": 100,\n",
        "    \"xy\": (0.1, 0.05),\n",
        "    \"linewidth\": 2,\n",
        "    \"fontsize\": 8,\n",
        "    \"color\": \"black\",\n",
        "    \"unit\": \"km\",\n",
        "    \"ha\": \"center\",\n",
        "    \"va\": \"bottom\",\n",
        "}\n",
        "cartoee.add_scale_bar_lite(ax, **scale_bar_dict)\n",
        "\n",
        "# add title\n",
        "ax.set_title(label=\"Total Rainfall (2023-07-15)\", fontsize=10)\n",
        "\n",
        "plt.show()"
      ]
    },
    {
      "cell_type": "code",
      "execution_count": null,
      "metadata": {
        "id": "qx2YOm0aHZUr"
      },
      "outputs": [],
      "source": [
        "# create a gif of the images in the clipped collection\n",
        "cartoee.get_image_collection_gif(\n",
        "    ee_ic=clipped_imerg_collection,\n",
        "    out_dir=\"./img/gif_images\",\n",
        "    out_gif=\"./img/animation.gif\",\n",
        "    vis_params=vis_params,\n",
        "    region=region,\n",
        "    fps=2,\n",
        "    mp4=True,\n",
        "    grid_interval=(5, 5),\n",
        "    plot_title=\"Indonesia Daily Rainfall\",\n",
        "    date_format=\"YYYY-MM-dd:HH-mm\",\n",
        "    fig_size=(7, 7),\n",
        "    dpi_plot=100,\n",
        "    file_format=\"png\",\n",
        "    overlay_layers=[indonesia],\n",
        "    overlay_styles=[outline_style],\n",
        "    colorbar_dict={\"loc\": \"right\", \"label\": \"Rainfall (mm)\", \"orientation\": \"vertical\"},\n",
        "    north_arrow_dict=north_arrow_dict,\n",
        "    scale_bar_dict=scale_bar_dict,\n",
        "    verbose=True,\n",
        ")"
      ]
    }
  ],
  "metadata": {
    "colab": {
      "provenance": [],
      "include_colab_link": true
    },
    "kernelspec": {
      "display_name": "Python 3",
      "name": "python3"
    },
    "language_info": {
      "codemirror_mode": {
        "name": "ipython",
        "version": 3
      },
      "file_extension": ".py",
      "mimetype": "text/x-python",
      "name": "python",
      "nbconvert_exporter": "python",
      "pygments_lexer": "ipython3",
      "version": "3.11.9"
    }
  },
  "nbformat": 4,
  "nbformat_minor": 0
}